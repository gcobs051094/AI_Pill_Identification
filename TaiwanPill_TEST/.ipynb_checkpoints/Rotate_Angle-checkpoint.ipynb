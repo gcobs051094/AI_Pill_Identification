{
 "cells": [
  {
   "cell_type": "code",
   "execution_count": 9,
   "id": "d6994512-e493-47ad-b078-d8d3ce07f11f",
   "metadata": {},
   "outputs": [],
   "source": [
    "import cv2\n",
    "import numpy as np\n",
    "import math\n",
    "import matplotlib.pyplot as plt\n",
    "\n",
    "def detect_longest_line_and_rotate_to_vertical(image):\n",
    "    # 將影像轉為灰階並進行高斯模糊\n",
    "    gray = cv2.cvtColor(image, cv2.COLOR_BGR2GRAY)\n",
    "    blurred = cv2.GaussianBlur(gray, (3, 3), 0)  # 輕微模糊以減少雜訊\n",
    "\n",
    "    plt.figure(figsize=(1, 1))\n",
    "    plt.imshow(blurred)\n",
    "    # 使用Canny邊緣檢測\n",
    "    edges = cv2.Canny(blurred, 30, 10)\n",
    "\n",
    "    plt.figure(figsize=(1, 1))\n",
    "    plt.imshow(edges)\n",
    "    \n",
    "    # 使用霍夫直線變換來僅檢測較長的刻線\n",
    "    min_line_length = 10  # 設定最小線長，避免檢測到過短的刻線\n",
    "    lines = cv2.HoughLinesP(edges, rho=1, theta=np.pi / 180, threshold=30, minLineLength=min_line_length, maxLineGap=5)\n",
    "    \n",
    "    # 檢查是否找到刻線\n",
    "    if lines is not None:\n",
    "        longest_line = None\n",
    "        max_length = 0\n",
    "        \n",
    "        # 遍歷找到最長的刻線\n",
    "        for line in lines:\n",
    "            x1, y1, x2, y2 = line[0]\n",
    "            length = (x2 - x1) ** 2 + (y2 - y1) ** 2  # 使用平方長度避免開根號，提高效率\n",
    "            \n",
    "            # 若找到更長的線則更新\n",
    "            if length > max_length:\n",
    "                max_length = length\n",
    "                longest_line = (x1, y1, x2, y2)\n",
    "            \n",
    "            # 優化：如果發現非常長的線，可以考慮直接結束循環\n",
    "            if max_length > min_line_length ** 2 * 4:  # 假設一條足夠長的線\n",
    "                break\n",
    "        \n",
    "        if longest_line is not None:\n",
    "            x1, y1, x2, y2 = longest_line\n",
    "            # 計算最長刻線的角度\n",
    "            angle = math.degrees(math.atan2(y2 - y1, x2 - x1))\n",
    "            print(f\"最長刻線的角度: {angle}°\")\n",
    "            \n",
    "            # 計算旋轉角度，使刻線垂直\n",
    "            rotation_angle = -(90 + angle) if angle > 0 else -(90 + angle)\n",
    "            \n",
    "            # 取得旋轉矩陣並進行旋轉\n",
    "            (h, w) = image.shape[:2]\n",
    "            center = (w // 2, h // 2)\n",
    "            M = cv2.getRotationMatrix2D(center, rotation_angle, 1.0)\n",
    "            rotated = cv2.warpAffine(image, M, (w, h), flags=cv2.INTER_LINEAR, borderMode=cv2.BORDER_REPLICATE)\n",
    "            \n",
    "            return rotated\n",
    "    \n",
    "    print(\"未找到刻線\")\n",
    "    return image  # 若無檢測到任何刻線，返回原圖\n"
   ]
  },
  {
   "cell_type": "code",
   "execution_count": 11,
   "id": "67a43e89-0d84-47d0-a9e3-685fcf421058",
   "metadata": {},
   "outputs": [
    {
     "name": "stdout",
     "output_type": "stream",
     "text": [
      "最長刻線的角度: -90.0°\n"
     ]
    },
    {
     "data": {
      "image/png": "[encoded data removed]",
      "text/plain": [
       "<Figure size 100x100 with 1 Axes>"
      ]
     },
     "metadata": {},
     "output_type": "display_data"
    },
    {
     "data": {
      "image/png": "[encoded data removed]",
      "text/plain": [
       "<Figure size 100x100 with 1 Axes>"
      ]
     },
     "metadata": {},
     "output_type": "display_data"
    },
    {
     "data": {
      "image/png": "[encoded data removed]",
      "text/plain": [
       "<Figure size 100x100 with 1 Axes>"
      ]
     },
     "metadata": {},
     "output_type": "display_data"
    },
    {
     "data": {
      "image/png": "[encoded data removed]",
      "text/plain": [
       "<Figure size 100x100 with 1 Axes>"
      ]
     },
     "metadata": {},
     "output_type": "display_data"
    }
   ],
   "source": [
    "# 載入測試影像\n",
    "image = cv2.imread('TestImg/capsule/2/A.png')\n",
    "\n",
    "# 檢測刻線並進行旋轉校正\n",
    "result = detect_longest_line_and_rotate_to_vertical(image)\n",
    "\n",
    "plt.figure(figsize=(1, 1))\n",
    "plt.imshow(image)\n",
    "plt.axis('off')  # 隱藏座標軸\n",
    "plt.show()\n",
    "\n",
    "plt.figure(figsize=(1, 1))\n",
    "plt.imshow(result)\n",
    "plt.axis('off')  # 隱藏座標軸\n",
    "plt.show()"
   ]
  },
  {
   "cell_type": "code",
   "execution_count": 5,
   "id": "5b4ca424-e75d-4427-bbf5-034844270934",
   "metadata": {},
   "outputs": [],
   "source": [
    "import cv2\n",
    "import numpy as np\n",
    "\n",
    "def rotate_image(image, angle):\n",
    "    \"\"\"根據指定角度旋轉影像\"\"\"\n",
    "    (h, w) = image.shape[:2]\n",
    "    center = (w // 2, h // 2)\n",
    "    matrix = cv2.getRotationMatrix2D(center, angle, 1.0)\n",
    "    rotated = cv2.warpAffine(image, matrix, (w, h))\n",
    "    return rotated\n",
    "\n",
    "def determine_best_orientation(image_path):\n",
    "    # 讀取影像\n",
    "    img = cv2.imread(image_path, cv2.IMREAD_GRAYSCALE)\n",
    "    if img is None:\n",
    "        return \"無法讀取影像\"\n",
    "\n",
    "    # 使用Canny邊緣檢測來識別輪廓\n",
    "    edges = cv2.Canny(img, 30, 10)\n",
    "    contours, _ = cv2.findContours(edges, cv2.RETR_EXTERNAL, cv2.CHAIN_APPROX_SIMPLE)\n",
    "\n",
    "    if not contours:\n",
    "        return \"未識別到膠囊輪廓\"\n",
    "\n",
    "    # 只取最大輪廓\n",
    "    max_contour = max(contours, key=cv2.contourArea)\n",
    "\n",
    "    # 擬合形狀，根據邊數來分類\n",
    "    epsilon = 0.04 * cv2.arcLength(max_contour, True)\n",
    "    approx = cv2.approxPolyDP(max_contour, epsilon, True)\n",
    "\n",
    "    # 根據頂點數判斷形狀\n",
    "    num_sides = len(approx)\n",
    "    \n",
    "    # 判斷形狀並決定旋轉角度\n",
    "    if num_sides == 3:\n",
    "        # 藥丸形狀 (三角形)：找到重心後對齊某個頂點\n",
    "        points = np.array(approx).reshape(-1, 2)\n",
    "        center = np.mean(points, axis=0)\n",
    "        angles = np.arctan2(points[:, 1] - center[1], points[:, 0] - center[0])\n",
    "        rotation_angle = np.degrees(np.min(angles))  # 選擇最小的角度，使頂點朝上\n",
    "        return \"藥丸形膠囊 (三角形) - 旋轉至頂點朝上\", rotation_angle\n",
    "    elif num_sides == 4:\n",
    "        # 藥丸形狀 (四邊形)：將其旋轉到任意對稱角度\n",
    "        points = np.array(approx).reshape(-1, 2)\n",
    "        edge_vector = points[1] - points[0]\n",
    "        angle = np.arctan2(edge_vector[1], edge_vector[0])  # 計算邊的角度\n",
    "        rotation_angle = np.degrees(angle)\n",
    "        return \"藥丸形膠囊 (四邊形) - 旋轉至對齊角度\", rotation_angle\n",
    "    elif num_sides == 5:\n",
    "        # 藥丸形狀 (五邊形)：任意對稱軸旋轉\n",
    "        rotation_angle = 0  # 假設對稱軸朝上\n",
    "        return \"藥丸形膠囊 (五邊形) - 旋轉至對齊角度\", rotation_angle\n",
    "    elif num_sides == 6:\n",
    "        # 藥丸形狀 (六邊形)：選擇對稱角度\n",
    "        rotation_angle = 0\n",
    "        return \"藥丸形膠囊 (六邊形) - 旋轉至對齊角度\", rotation_angle\n",
    "    elif num_sides == 8:\n",
    "        # 藥丸形狀 (八邊形)：可以選擇對稱角度\n",
    "        rotation_angle = 0\n",
    "        return \"藥丸形膠囊 (八邊形) - 旋轉至對齊角度\", rotation_angle\n",
    "    elif num_sides > 8:  # 藥丸形狀 (七邊形或更高邊數)\n",
    "        rotation_angle = 0\n",
    "        return \"藥丸形膠囊 - 旋轉至對齊角度\", rotation_angle\n",
    "    else:\n",
    "        # 圓形或橢圓形\n",
    "        # 偵測圓形或橢圓形\n",
    "        # 計算形狀的圓度，圓形接近1，橢圓形則小於1\n",
    "        aspect_ratio = float(img.shape[0]) / img.shape[1]\n",
    "        if aspect_ratio < 1.2 and aspect_ratio > 0.8:  # 圓形判斷範圍\n",
    "            rotation_angle = 0  # 圓形無需旋轉\n",
    "            return \"圓形膠囊 - 無需旋轉\", rotation_angle\n",
    "        else:  # 橢圓形\n",
    "            rotation_angle = 0  # 橢圓形根據長軸方向旋轉\n",
    "            return \"橢圓形膠囊 - 旋轉至長軸方向\", rotation_angle"
   ]
  },
  {
   "cell_type": "code",
   "execution_count": 6,
   "id": "cec52841-e4da-48a8-9ebd-096384a2838d",
   "metadata": {},
   "outputs": [
    {
     "name": "stdout",
     "output_type": "stream",
     "text": [
      "推薦擺放方式: 藥丸形膠囊 (四邊形) - 旋轉至對齊角度\n"
     ]
    }
   ],
   "source": [
    "# 假設我們有影像文件\n",
    "image_path = 'TestImg/pill/2/Sample_9_1_A_W.png'\n",
    "orientation, rotation_angle = determine_best_orientation(image_path)\n",
    "print(f\"推薦擺放方式: {orientation}\")\n",
    "\n",
    "# 旋轉影像\n",
    "img = cv2.imread(image_path)\n",
    "rotated_img = rotate_image(img, rotation_angle)\n",
    "\n",
    "# 顯示旋轉後的結果\n",
    "cv2.imshow(\"Rotated Capsule\", rotated_img)\n",
    "cv2.waitKey(0)\n",
    "cv2.destroyAllWindows()"
   ]
  },
  {
   "cell_type": "code",
   "execution_count": null,
   "id": "04b2aa46-0b7b-4a3d-8b3a-5be9cb4a03a6",
   "metadata": {},
   "outputs": [],
   "source": []
  }
 ],
 "metadata": {
  "kernelspec": {
   "display_name": "PillNet_py39",
   "language": "python",
   "name": "pillnet_py39"
  },
  "language_info": {
   "codemirror_mode": {
    "name": "ipython",
    "version": 3
   },
   "file_extension": ".py",
   "mimetype": "text/x-python",
   "name": "python",
   "nbconvert_exporter": "python",
   "pygments_lexer": "ipython3",
   "version": "3.9.19"
  }
 },
 "nbformat": 4,
 "nbformat_minor": 5
}
