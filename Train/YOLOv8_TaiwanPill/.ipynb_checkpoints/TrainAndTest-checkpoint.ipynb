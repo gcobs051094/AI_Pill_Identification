{
 "cells": [
  {
   "cell_type": "code",
   "execution_count": 3,
   "id": "bb139e5e-fb54-4c42-b562-c26a715ae132",
   "metadata": {},
   "outputs": [
    {
     "name": "stdout",
     "output_type": "stream",
     "text": [
      "Ultralytics 8.3.21  Python-3.8.20 torch-1.10.1 CUDA:0 (NVIDIA GeForce RTX 3060 Ti, 8192MiB)\n",
      "Setup complete  (12 CPUs, 15.9 GB RAM, 193.7/476.0 GB disk)\n",
      "None\n",
      "1.10.1\n",
      "True\n"
     ]
    }
   ],
   "source": [
    "import ultralytics\n",
    "import torch\n",
    "from ultralytics import YOLO\n",
    "import logging\n",
    "import os\n",
    "\n",
    "print(ultralytics.checks())\n",
    "print(torch.__version__)\n",
    "print(torch.cuda.is_available())\n",
    "logging.basicConfig(level=logging.DEBUG)"
   ]
  },
  {
   "cell_type": "code",
   "execution_count": null,
   "id": "d645eebf-1744-4650-8eb9-8bb0d2e5eb89",
   "metadata": {},
   "outputs": [
    {
     "name": "stdout",
     "output_type": "stream",
     "text": [
      "Using device: cuda:0\n",
      "Ultralytics 8.3.21  Python-3.8.20 torch-1.10.1 CUDA:0 (NVIDIA GeForce RTX 3060 Ti, 8192MiB)\n",
      "WARNING  Upgrade to torch>=2.0.0 for deterministic training.\n",
      "\u001b[34m\u001b[1mengine\\trainer: \u001b[0mtask=segment, mode=train, model=models/yolov8s-seg.pt, data=data/SurgeryTool_ALLCollectionsAndLabels/data.yaml, epochs=50, time=None, patience=100, batch=8, imgsz=640, save=True, save_period=-1, cache=False, device=cuda:0, workers=8, project=training_output, name=surgerytool7, exist_ok=False, pretrained=True, optimizer=auto, verbose=True, seed=0, deterministic=True, single_cls=False, rect=False, cos_lr=False, close_mosaic=10, resume=False, amp=True, fraction=1.0, profile=False, freeze=None, multi_scale=False, overlap_mask=True, mask_ratio=4, dropout=0.0, val=True, split=val, save_json=False, save_hybrid=False, conf=None, iou=0.7, max_det=300, half=False, dnn=False, plots=True, source=None, vid_stride=1, stream_buffer=False, visualize=False, augment=False, agnostic_nms=False, classes=None, retina_masks=False, embed=None, show=False, save_frames=False, save_txt=False, save_conf=False, save_crop=False, show_labels=True, show_conf=True, show_boxes=True, line_width=None, format=torchscript, keras=False, optimize=False, int8=False, dynamic=False, simplify=True, opset=None, workspace=4, nms=False, lr0=0.01, lrf=0.01, momentum=0.937, weight_decay=0.0005, warmup_epochs=3.0, warmup_momentum=0.8, warmup_bias_lr=0.1, box=7.5, cls=0.5, dfl=1.5, pose=12.0, kobj=1.0, label_smoothing=0.0, nbs=64, hsv_h=0.015, hsv_s=0.7, hsv_v=0.4, degrees=0.0, translate=0.1, scale=0.5, shear=0.0, perspective=0.0, flipud=0.0, fliplr=0.5, bgr=0.0, mosaic=1.0, mixup=0.0, copy_paste=0.0, copy_paste_mode=flip, auto_augment=randaugment, erasing=0.4, crop_fraction=1.0, cfg=None, tracker=botsort.yaml, save_dir=training_output\\surgerytool7\n",
      "Overriding model.yaml nc=80 with nc=29\n",
      "\n",
      "                   from  n    params  module                                       arguments                     \n",
      "  0                  -1  1       928  ultralytics.nn.modules.conv.Conv             [3, 32, 3, 2]                 \n",
      "  1                  -1  1     18560  ultralytics.nn.modules.conv.Conv             [32, 64, 3, 2]                \n",
      "  2                  -1  1     29056  ultralytics.nn.modules.block.C2f             [64, 64, 1, True]             \n",
      "  3                  -1  1     73984  ultralytics.nn.modules.conv.Conv             [64, 128, 3, 2]               \n",
      "  4                  -1  2    197632  ultralytics.nn.modules.block.C2f             [128, 128, 2, True]           \n",
      "  5                  -1  1    295424  ultralytics.nn.modules.conv.Conv             [128, 256, 3, 2]              \n",
      "  6                  -1  2    788480  ultralytics.nn.modules.block.C2f             [256, 256, 2, True]           \n",
      "  7                  -1  1   1180672  ultralytics.nn.modules.conv.Conv             [256, 512, 3, 2]              \n",
      "  8                  -1  1   1838080  ultralytics.nn.modules.block.C2f             [512, 512, 1, True]           \n",
      "  9                  -1  1    656896  ultralytics.nn.modules.block.SPPF            [512, 512, 5]                 \n",
      " 10                  -1  1         0  torch.nn.modules.upsampling.Upsample         [None, 2, 'nearest']          \n",
      " 11             [-1, 6]  1         0  ultralytics.nn.modules.conv.Concat           [1]                           \n",
      " 12                  -1  1    591360  ultralytics.nn.modules.block.C2f             [768, 256, 1]                 \n",
      " 13                  -1  1         0  torch.nn.modules.upsampling.Upsample         [None, 2, 'nearest']          \n",
      " 14             [-1, 4]  1         0  ultralytics.nn.modules.conv.Concat           [1]                           \n",
      " 15                  -1  1    148224  ultralytics.nn.modules.block.C2f             [384, 128, 1]                 \n",
      " 16                  -1  1    147712  ultralytics.nn.modules.conv.Conv             [128, 128, 3, 2]              \n",
      " 17            [-1, 12]  1         0  ultralytics.nn.modules.conv.Concat           [1]                           \n",
      " 18                  -1  1    493056  ultralytics.nn.modules.block.C2f             [384, 256, 1]                 \n",
      " 19                  -1  1    590336  ultralytics.nn.modules.conv.Conv             [256, 256, 3, 2]              \n",
      " 20             [-1, 9]  1         0  ultralytics.nn.modules.conv.Concat           [1]                           \n",
      " 21                  -1  1   1969152  ultralytics.nn.modules.block.C2f             [768, 512, 1]                 \n",
      " 22        [15, 18, 21]  1   2781767  ultralytics.nn.modules.head.Segment          [29, 32, 128, [128, 256, 512]]\n",
      "YOLOv8s-seg summary: 261 layers, 11,801,319 parameters, 11,801,303 gradients, 42.8 GFLOPs\n",
      "\n",
      "Transferred 411/417 items from pretrained weights\n",
      "Freezing layer 'model.22.dfl.conv.weight'\n",
      "\u001b[34m\u001b[1mAMP: \u001b[0mrunning Automatic Mixed Precision (AMP) checks...\n",
      "\u001b[34m\u001b[1mAMP: \u001b[0mchecks passed \n"
     ]
    },
    {
     "name": "stderr",
     "output_type": "stream",
     "text": [
      "\u001b[34m\u001b[1mtrain: \u001b[0mScanning C:\\Users\\V003479\\Desktop\\Project\\Train\\YOLOv8_SurgeryTool\\data\\SurgeryTool_ALLCollectionsAndLabels\\trai\u001b[0m\n",
      "\u001b[34m\u001b[1mval: \u001b[0mScanning C:\\Users\\V003479\\Desktop\\Project\\Train\\YOLOv8_SurgeryTool\\data\\SurgeryTool_ALLCollectionsAndLabels\\valid\\\u001b[0m\n"
     ]
    }
   ],
   "source": [
    "def main():\n",
    "    training_device = 'cuda:0' if torch.cuda.is_available() else 'cpu'\n",
    "    print(\"Using device:\", training_device)\n",
    "    '''\n",
    "    yolov8n-seg\n",
    "    yolov8s-seg\n",
    "    yolov8m-seg\n",
    "    yolov8l-seg\n",
    "    yolov8x-seg\n",
    "    '''\n",
    "    \n",
    "    # User settings\n",
    "    output_dir = 'training_output'\n",
    "    folder_name = 'surgerytool'\n",
    "    starting_model = 'models/yolov8s-seg.pt' # Choose the model size from the list above, will be downloaded\n",
    "    batch_size = 8 # Batch size for training\n",
    "    epoch_count = 50 # Number of training epochs\n",
    "\n",
    "    # Create output directory if it does not exist\n",
    "    if not os.path.exists(output_dir):\n",
    "        os.makedirs(output_dir)\n",
    "\n",
    "    # Absolute path to dataset.yaml\n",
    "    dataset_path = os.path.abspath('G:/Side_Pro/YOLOv8_SurgeryTool/data/SurgeryTool_ALLCollectionsAndLabels/data.yaml')\n",
    "\n",
    "    # Run the training\n",
    "    modelYolo = YOLO(starting_model)\n",
    "    modelYolo.train(data='data/SurgeryTool_ALLCollectionsAndLabels/data.yaml', epochs=epoch_count, batch=batch_size, device=training_device, project=output_dir, name=folder_name)\n",
    "\n",
    "    # Evaluate model performance on the validation set\n",
    "    metrics = modelYolo.val()\n",
    "\n",
    "    # Optional: Export the model to alternative formats\n",
    "    # Format Options:\n",
    "    '''\n",
    "    Format      \tArgument        Model \t                Metadata \tArguments\n",
    "    PyTorch \t    - \t            yolov8n.pt \t            yes \t    -\n",
    "    TorchScript \ttorchscript \tyolov8n.torchscript \tyes\t        imgsz, optimize\n",
    "    ONNX \t        onnx \t        yolov8n.onnx \t        yes \t    imgsz, half, dynamic, simplify, opset\n",
    "    OpenVINO \t    openvino \t    yolov8n_openvino_model/ yes \t    imgsz, half, int8\n",
    "    TensorRT \t    engine \t        yolov8n.engine \t        yes \t    imgsz, half, dynamic, simplify, workspace\n",
    "    CoreML \t        coreml \t        yolov8n.mlpackage \t    yes \t    imgsz, half, int8, nms\n",
    "    TF SavedModel \tsaved_model \tyolov8n_saved_model/ \tyes \t    imgsz, keras, int8\n",
    "    TF GraphDef \tpb \t            yolov8n.pb \t            no \t        imgsz\n",
    "    TF Lite \t    tflite \t        yolov8n.tflite \t        yes \t    imgsz, half, int8\n",
    "    TF  Edge TPU \tedgetpu \t    yolov8n_edgetpu.tflite \tyes \t    imgsz\n",
    "    TF.js \t        tfjs \t        yolov8n_web_model/ \t    yes \t    imgsz, half, int8\n",
    "    PaddlePaddle \tpaddle \t        yolov8n_paddle_model/ \tyes \t    imgsz\n",
    "    ncnn \t        ncnn \t        yolov8n_ncnn_model/ \tyes \t    imgsz, half\n",
    "    '''\n",
    "    # path = model.export(format=\"onnx\") # Export to alternative formats\n",
    "\n",
    "    # Keep the script running (Optional)\n",
    "    input(\"Press Enter to exit...\")\n",
    "if __name__ == '__main__':\n",
    "    main()"
   ]
  },
  {
   "cell_type": "code",
   "execution_count": null,
   "id": "b21a10a7-4037-4751-9d92-ef98876cea86",
   "metadata": {},
   "outputs": [],
   "source": []
  }
 ],
 "metadata": {
  "kernelspec": {
   "display_name": "cabalaTorch38",
   "language": "python",
   "name": "cabalatorch38"
  },
  "language_info": {
   "codemirror_mode": {
    "name": "ipython",
    "version": 3
   },
   "file_extension": ".py",
   "mimetype": "text/x-python",
   "name": "python",
   "nbconvert_exporter": "python",
   "pygments_lexer": "ipython3",
   "version": "3.8.13"
  }
 },
 "nbformat": 4,
 "nbformat_minor": 5
}
